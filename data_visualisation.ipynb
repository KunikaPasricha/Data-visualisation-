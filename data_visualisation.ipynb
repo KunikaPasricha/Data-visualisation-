{
 "cells": [
  {
   "cell_type": "code",
   "execution_count": 2,
   "id": "1d241d34",
   "metadata": {},
   "outputs": [],
   "source": [
    "import pandas as pd              # import Pandas library for data manipulation and analysis\n",
    "import matplotlib.pyplot as plt  # import Matplotlib library for data visualization\n"
   ]
  },
  {
   "cell_type": "code",
   "execution_count": null,
   "id": "99ced885",
   "metadata": {},
   "outputs": [],
   "source": [
    "# Load the data (replace 'filename.csv' with the name of your file)\n",
    "df = pd.read_csv('filename.csv')"
   ]
  },
  {
   "cell_type": "code",
   "execution_count": null,
   "id": "2f68e3eb",
   "metadata": {},
   "outputs": [],
   "source": [
    "# Clean the data by removing any missing values or duplicates\n",
    "df.dropna(inplace=True)         # remove any rows with missing values\n",
    "df.drop_duplicates(inplace=True) # remove any duplicate rows\n",
    "\n"
   ]
  },
  {
   "cell_type": "code",
   "execution_count": null,
   "id": "9f1ce80f",
   "metadata": {},
   "outputs": [],
   "source": [
    "# Group the data by a column of your choice and calculate the average of another column\n",
    "grouped_data = df.groupby('column_to_group_by').agg({'column_to_average': 'mean'})\n",
    "\n",
    "# Calculate the standard deviation of the data\n",
    "std_dev = df['column_to_average'].std()"
   ]
  },
  {
   "cell_type": "code",
   "execution_count": null,
   "id": "dd550a98",
   "metadata": {},
   "outputs": [],
   "source": [
    "# Plot the results (replace 'Title' and 'X Label' and 'Y Label' with your own labels)\n",
    "fig, ax = plt.subplots()         # create a new figure and axis for the plot\n",
    "grouped_data.plot(ax=ax)         # plot the data on the axis\n",
    "ax.set_title('Title')            # set the title of the plot\n",
    "ax.set_xlabel('X Label')         # set the label for the x-axis\n",
    "ax.set_ylabel('Y Label')         # set the label for the y-axis\n",
    "\n",
    "# Add a horizontal line to the plot to indicate the standard deviation\n",
    "ax.axhline(y=std_dev, color='r', linestyle='--', label='Standard Deviation')\n",
    "ax.legend()                      # display a legend for the plot\n",
    "\n",
    "plt.show()                       # display the plot"
   ]
  }
 ],
 "metadata": {
  "kernelspec": {
   "display_name": "Python 3 (ipykernel)",
   "language": "python",
   "name": "python3"
  },
  "language_info": {
   "codemirror_mode": {
    "name": "ipython",
    "version": 3
   },
   "file_extension": ".py",
   "mimetype": "text/x-python",
   "name": "python",
   "nbconvert_exporter": "python",
   "pygments_lexer": "ipython3",
   "version": "3.10.9"
  }
 },
 "nbformat": 4,
 "nbformat_minor": 5
}
